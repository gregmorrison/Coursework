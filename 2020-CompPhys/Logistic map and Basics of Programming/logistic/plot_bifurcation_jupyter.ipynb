{
 "cells": [
  {
   "cell_type": "code",
   "execution_count": 4,
   "metadata": {},
   "outputs": [
    {
     "data": {
      "image/png": "[encoded data removed]",
      "text/plain": [
       "<Figure size 432x288 with 1 Axes>"
      ]
     },
     "metadata": {
      "needs_background": "light"
     },
     "output_type": "display_data"
    },
    {
     "data": {
      "text/plain": [
       "<Figure size 432x288 with 0 Axes>"
      ]
     },
     "metadata": {},
     "output_type": "display_data"
    }
   ],
   "source": [
    "import numpy as np\n",
    "import pandas as pd\n",
    "\n",
    "import matplotlib as mp\n",
    "import matplotlib.pyplot as plt\n",
    "\n",
    "\n",
    "bdata=np.genfromtxt('bifurcations.txt',delimiter=',')\n",
    "## This uses numpy to import the data.\n",
    "\n",
    "#PandasData=pd.read_csv('bifurcations.txt')\n",
    "#bdata=PandasData.values.tolist()\n",
    "##  This uses pandas to import the data\n",
    "##  NOTE:  pandas imports this as a data frame, not a list or array.\n",
    "## \twe have to convert it!\n",
    "\n",
    "\n",
    "\n",
    "nrow=len(bdata)\n",
    "ncol=len(bdata[0])\n",
    "for riter in range(0,nrow,5):\n",
    "\t#each row corresponds to a particular choice for r.  \n",
    "\t# we skip every 5th row in this command.  \n",
    "\n",
    "\tyvals=bdata[riter][1:]\n",
    "\t#every observed value for x for this r.  \n",
    "\t# the 0th element is r\n",
    "\t# later elements are one of 256 observed values of x.\n",
    "\t\n",
    "\t\n",
    "\t\n",
    "\tyvals=list(set(yvals))\n",
    "\t\t#this picks out every unique value of r.\n",
    "\t\t# the set() finds the unique elements.  This is stored as a set\n",
    "\t\t# which we must convert to a list.\n",
    "\t\n",
    "#\tyvals=np.unique(np.array(yvals))\n",
    "\t\t#another way to do it, using numpy.\n",
    "\n",
    "#\tyvals=pd.Series(yvals).unique()\n",
    "\t\t#another way to do it, using pandas.\n",
    "\t\t\n",
    "\t\t\n",
    "\txvals=[bdata[riter][0]]*len(yvals)\n",
    "\t#this is just a list containing the value r\n",
    "\n",
    "\tplt.scatter(xvals,yvals,marker=\".\",s=3,color='b')\n",
    "\t#note that this commands creates an image of the points at each value\n",
    "\t#of r.  we have to iterate over r and add each layer to the list.\n",
    "\n",
    "plt.show()\n",
    "#show the plot\n",
    "plt.savefig('bifurcation_python.eps', format='eps')\n",
    "#save the figure.\n",
    "\n",
    "\n",
    "\n",
    "plt.clf()\n",
    "#this clears all data in the previous plot.  \n"
   ]
  },
  {
   "cell_type": "code",
   "execution_count": null,
   "metadata": {},
   "outputs": [],
   "source": []
  }
 ],
 "metadata": {
  "kernelspec": {
   "display_name": "Python 3",
   "language": "python",
   "name": "python3"
  },
  "language_info": {
   "codemirror_mode": {
    "name": "ipython",
    "version": 3
   },
   "file_extension": ".py",
   "mimetype": "text/x-python",
   "name": "python",
   "nbconvert_exporter": "python",
   "pygments_lexer": "ipython3",
   "version": "3.8.5"
  }
 },
 "nbformat": 4,
 "nbformat_minor": 4
}
